{
 "cells": [
  {
   "attachments": {},
   "cell_type": "markdown",
   "metadata": {},
   "source": [
    "# Importing Libraries"
   ]
  },
  {
   "cell_type": "code",
   "execution_count": 1,
   "metadata": {},
   "outputs": [],
   "source": [
    "from transformers import VisionEncoderDecoderModel, ViTImageProcessor, AutoTokenizer\n",
    "import os\n",
    "import torch\n",
    "import random\n",
    "from PIL import Image"
   ]
  },
  {
   "attachments": {},
   "cell_type": "markdown",
   "metadata": {},
   "source": [
    "# Initiating Model"
   ]
  },
  {
   "cell_type": "code",
   "execution_count": 2,
   "metadata": {},
   "outputs": [],
   "source": [
    "model = VisionEncoderDecoderModel.from_pretrained(\"nlpconnect/vit-gpt2-image-captioning\")\n",
    "feature_extractor = ViTImageProcessor.from_pretrained(\"nlpconnect/vit-gpt2-image-captioning\")\n",
    "tokenizer = AutoTokenizer.from_pretrained(\"nlpconnect/vit-gpt2-image-captioning\")"
   ]
  },
  {
   "attachments": {},
   "cell_type": "markdown",
   "metadata": {},
   "source": [
    "# Checking GPU"
   ]
  },
  {
   "cell_type": "code",
   "execution_count": 3,
   "metadata": {},
   "outputs": [
    {
     "data": {
      "text/plain": [
       "device(type='cuda')"
      ]
     },
     "execution_count": 3,
     "metadata": {},
     "output_type": "execute_result"
    }
   ],
   "source": [
    "device = torch.device(\"cuda\" if torch.cuda.is_available() else \"cpu\")\n",
    "model.to(device)\n",
    "device"
   ]
  },
  {
   "attachments": {},
   "cell_type": "markdown",
   "metadata": {},
   "source": [
    "# Caption Generation"
   ]
  },
  {
   "cell_type": "code",
   "execution_count": 4,
   "metadata": {},
   "outputs": [],
   "source": [
    "def predict_step(image_path, num_captions):\n",
    "\n",
    "    # Empty List\n",
    "    captions = []\n",
    "\n",
    "    # Convert Image to 3 Channel Image\n",
    "    i_image = Image.open(image_path)\n",
    "    if i_image.mode != \"RGB\":\n",
    "        i_image = i_image.convert(mode=\"RGB\")\n",
    "    \n",
    "    # Preprocessing\n",
    "    pixel_values = feature_extractor(images=[i_image], return_tensors=\"pt\").pixel_values\n",
    "    pixel_values = pixel_values.to(device)\n",
    "\n",
    "    # Generating Captions\n",
    "    for _ in range(num_captions):\n",
    "        random_seed = random.randint(999, 1000000)\n",
    "        random.seed(random_seed)\n",
    "        torch.random.manual_seed(random_seed)\n",
    "\n",
    "        sampled_output_ids = model.generate(pixel_values, do_sample=True)\n",
    "\n",
    "        preds = tokenizer.batch_decode(sampled_output_ids, skip_special_tokens=True)\n",
    "        preds = [pred.strip() for pred in preds]\n",
    "\n",
    "        # Filter out duplicate captions\n",
    "        unique_preds = []\n",
    "        for pred in preds:\n",
    "            if pred not in unique_preds:\n",
    "                unique_preds.append(pred)\n",
    "            if len(unique_preds) == num_captions:\n",
    "                break\n",
    "\n",
    "        captions.extend(unique_preds)\n",
    "    \n",
    "    return captions"
   ]
  },
  {
   "attachments": {},
   "cell_type": "markdown",
   "metadata": {},
   "source": [
    "# Peparing Path of Images"
   ]
  },
  {
   "cell_type": "code",
   "execution_count": 5,
   "metadata": {},
   "outputs": [],
   "source": [
    "image_path = []\n",
    "\n",
    "for filename in os.listdir('img'):\n",
    "    image_path.append('img/' + filename)"
   ]
  },
  {
   "attachments": {},
   "cell_type": "markdown",
   "metadata": {},
   "source": [
    "# Predicting"
   ]
  },
  {
   "cell_type": "code",
   "execution_count": 6,
   "metadata": {},
   "outputs": [
    {
     "name": "stderr",
     "output_type": "stream",
     "text": [
      "c:\\Users\\NdroidX\\AppData\\Local\\Programs\\Python\\Python39\\lib\\site-packages\\transformers\\generation\\utils.py:1313: UserWarning: Using `max_length`'s default (20) to control the generation length. This behaviour is deprecated and will be removed from the config in v5 of Transformers -- we recommend using `max_new_tokens` to control the maximum length of the generation.\n",
      "  warnings.warn(\n"
     ]
    }
   ],
   "source": [
    "Final = {}\n",
    "for image in image_path:\n",
    "    caption = predict_step(image,5)\n",
    "    Final[image] = caption"
   ]
  },
  {
   "attachments": {},
   "cell_type": "markdown",
   "metadata": {},
   "source": [
    "# Printing"
   ]
  },
  {
   "cell_type": "code",
   "execution_count": 7,
   "metadata": {},
   "outputs": [
    {
     "name": "stdout",
     "output_type": "stream",
     "text": [
      "Image1.png\n",
      "Caption : a man is playing soccer playing in a soccer stadium\n",
      "Caption : a man who is kicking a soccer ball in the air\n",
      "Caption : a male soccer player in grey jersey kicking ball\n",
      "Caption : a person in a grassy field with a soccer ball\n",
      "Caption : a man dressed in blue holding a football\n",
      "\n",
      "Image2.png\n",
      "Caption : a horse stands alone in a field near a cloudy sky\n",
      "Caption : a woman standing in a field next to black horses\n",
      "Caption : a woman is in a field with a horse's eyes\n",
      "Caption : a person standing in a dry field\n",
      "Caption : a large pretty young woman standing next to a horse\n",
      "\n",
      "Image3.png\n",
      "Caption : a picture featuring two different languages and a woman looking at them\n",
      "Caption : a girl wearing santa clause is using a photograph of the same girl\n",
      "Caption : the faces of two different women in the advertisements\n",
      "Caption : two photographs of different women wearing funny ties\n",
      "Caption : a series of various images of women holding a sign and holding something with words\n",
      "\n"
     ]
    }
   ],
   "source": [
    "for key,value in Final.items():\n",
    "    print(key.split(\"/\")[-1])\n",
    "    for i in value:\n",
    "        print(f'Caption : {i}')\n",
    "    print()"
   ]
  }
 ],
 "metadata": {
  "kernelspec": {
   "display_name": "Python 3",
   "language": "python",
   "name": "python3"
  },
  "language_info": {
   "codemirror_mode": {
    "name": "ipython",
    "version": 3
   },
   "file_extension": ".py",
   "mimetype": "text/x-python",
   "name": "python",
   "nbconvert_exporter": "python",
   "pygments_lexer": "ipython3",
   "version": "3.9.6"
  },
  "orig_nbformat": 4
 },
 "nbformat": 4,
 "nbformat_minor": 2
}
