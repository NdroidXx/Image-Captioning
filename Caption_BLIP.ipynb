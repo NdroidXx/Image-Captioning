{
 "cells": [
  {
   "attachments": {},
   "cell_type": "markdown",
   "metadata": {},
   "source": [
    "# Importing Libraries\n",
    "- Model used : https://huggingface.co/Salesforce/blip-image-captioning-large\n",
    "- Advantage : More Accurate captioning according to the image\n",
    "- Disadvantage : Take time to predict"
   ]
  },
  {
   "cell_type": "code",
   "execution_count": 2,
   "metadata": {},
   "outputs": [],
   "source": [
    "import requests\n",
    "import random\n",
    "import torch\n",
    "import os\n",
    "from PIL import Image\n",
    "from transformers import BlipProcessor, BlipForConditionalGeneration"
   ]
  },
  {
   "attachments": {},
   "cell_type": "markdown",
   "metadata": {},
   "source": [
    "# Setting up random Seed"
   ]
  },
  {
   "cell_type": "code",
   "execution_count": 3,
   "metadata": {},
   "outputs": [
    {
     "data": {
      "text/plain": [
       "<torch._C.Generator at 0x273bef7a690>"
      ]
     },
     "execution_count": 3,
     "metadata": {},
     "output_type": "execute_result"
    }
   ],
   "source": [
    "# Set random seed\n",
    "random.seed(42)\n",
    "torch.manual_seed(42)"
   ]
  },
  {
   "attachments": {},
   "cell_type": "markdown",
   "metadata": {},
   "source": [
    "# Initiating Model"
   ]
  },
  {
   "cell_type": "code",
   "execution_count": 4,
   "metadata": {},
   "outputs": [],
   "source": [
    "processor = BlipProcessor.from_pretrained(\"Salesforce/blip-image-captioning-large\")\n",
    "model = BlipForConditionalGeneration.from_pretrained(\"Salesforce/blip-image-captioning-large\").to(\"cuda\")"
   ]
  },
  {
   "attachments": {},
   "cell_type": "markdown",
   "metadata": {},
   "source": [
    "# Preprocessing & Function Defination"
   ]
  },
  {
   "cell_type": "code",
   "execution_count": 5,
   "metadata": {},
   "outputs": [],
   "source": [
    "def predict(image_path,num_captions):\n",
    "    # Empty List\n",
    "    captions = []\n",
    "\n",
    "    # Convert to RGB\n",
    "    image = Image.open(image_path).convert('RGB')\n",
    "    inputs = processor(image, return_tensors=\"pt\").to(\"cuda\")\n",
    "\n",
    "    # Generate multiple captions\n",
    "    while len(captions) < num_captions:\n",
    "        # Random Seed\n",
    "        random_seed = random.randint(999, 1000000)\n",
    "        random.seed(random_seed)\n",
    "        torch.manual_seed(random_seed)\n",
    "\n",
    "        # Caption Generation\n",
    "        out = model.generate(\n",
    "            **inputs,\n",
    "            num_return_sequences=num_captions,\n",
    "            do_sample=True,\n",
    "            top_k=100,\n",
    "            temperature=0.7,\n",
    "            max_length=50\n",
    "        )\n",
    "        \n",
    "        # Append the captions\n",
    "        for i in range(num_captions):\n",
    "            caption = processor.decode(out[i], skip_special_tokens=True)\n",
    "            captions.append(caption.capitalize())\n",
    "    \n",
    "    return captions"
   ]
  },
  {
   "attachments": {},
   "cell_type": "markdown",
   "metadata": {},
   "source": [
    "# Preparing Path of Images"
   ]
  },
  {
   "cell_type": "code",
   "execution_count": 6,
   "metadata": {},
   "outputs": [],
   "source": [
    "image_path = []\n",
    "\n",
    "for filename in os.listdir('img'):\n",
    "    image_path.append('img/' + filename)"
   ]
  },
  {
   "attachments": {},
   "cell_type": "markdown",
   "metadata": {},
   "source": [
    "# Generating captions"
   ]
  },
  {
   "cell_type": "code",
   "execution_count": 7,
   "metadata": {},
   "outputs": [],
   "source": [
    "Final = {}\n",
    "for image in image_path:\n",
    "    caption = predict(image,5)\n",
    "    Final[image] = caption"
   ]
  },
  {
   "attachments": {},
   "cell_type": "markdown",
   "metadata": {},
   "source": [
    "# Printing Captions"
   ]
  },
  {
   "cell_type": "code",
   "execution_count": 8,
   "metadata": {},
   "outputs": [
    {
     "name": "stdout",
     "output_type": "stream",
     "text": [
      "Image1.png\n",
      "Caption : Marvin adonis of manchester united during a match against liverpool united\n",
      "Caption : Leroy is a very good player in soccer, just playing for the team\n",
      "Caption : He is running with the ball on the field in a soccer game\n",
      "Caption : Ronald ronald in action during a game against liverpool\n",
      "Caption : Dancer on a soccer field in the middle of a run\n",
      "\n",
      "Image2.png\n",
      "Caption : Gloomy storm clouds hover over two horses in a field\n",
      "Caption : Cloudy skies above two horses in a field with grass and rocks\n",
      "Caption : Muddy two horses with a blue patch on their forehead and tail\n",
      "Caption : Horsebacks are standing in a field under cloudy skies and black clouds\n",
      "Caption : Boone of horses with blue tags on their heads standing in a field\n",
      "\n",
      "Image3.png\n",
      "Caption : Logos of five people are all about their roles\n",
      "Caption : Diagram of a group of three people, with various emotions\n",
      "Caption : Screenshot of people are all looking at the camera around the sun\n",
      "Caption : Seating for a live dinner at the sun bar at the fair\n",
      "Caption : Muslim, indian and muslim people are sharing their own stories\n",
      "\n"
     ]
    }
   ],
   "source": [
    "for key,value in Final.items():\n",
    "    print(key.split(\"/\")[-1])\n",
    "    for i in value:\n",
    "        print(f'Caption : {i}')\n",
    "    print()"
   ]
  },
  {
   "cell_type": "code",
   "execution_count": 9,
   "metadata": {},
   "outputs": [],
   "source": [
    "import json\n",
    "  \n",
    "with open('Captions_BLIP.txt', 'w') as convert_file:\n",
    "    convert_file.write(json.dumps(Final))"
   ]
  }
 ],
 "metadata": {
  "kernelspec": {
   "display_name": "Python 3",
   "language": "python",
   "name": "python3"
  },
  "language_info": {
   "codemirror_mode": {
    "name": "ipython",
    "version": 3
   },
   "file_extension": ".py",
   "mimetype": "text/x-python",
   "name": "python",
   "nbconvert_exporter": "python",
   "pygments_lexer": "ipython3",
   "version": "3.9.6"
  },
  "orig_nbformat": 4
 },
 "nbformat": 4,
 "nbformat_minor": 2
}
